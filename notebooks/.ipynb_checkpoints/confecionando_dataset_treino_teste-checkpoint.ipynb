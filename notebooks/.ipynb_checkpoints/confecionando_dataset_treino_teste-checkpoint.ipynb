{
 "cells": [
  {
   "cell_type": "code",
   "execution_count": 56,
   "metadata": {},
   "outputs": [],
   "source": [
    "import pandas as pd\n",
    "import numpy as np\n",
    "import os"
   ]
  },
  {
   "cell_type": "code",
   "execution_count": 57,
   "metadata": {},
   "outputs": [],
   "source": [
    "datasets_path = \"../datasets/\"\n",
    "\n",
    "\n",
    "reservas_futuras = pd.read_csv(datasets_path+'reservas_futuras.csv')\n",
    "transacoes = pd.read_csv(datasets_path+'transacoes.csv')\n",
    "cancelados = pd.read_csv(datasets_path+'cancelados.csv')\n",
    "faltantes = pd.read_csv(datasets_path+'faltantes.csv')"
   ]
  },
  {
   "cell_type": "markdown",
   "metadata": {},
   "source": [
    "Vimos na análise dos dados que há interseções entre as tabelas de transações, cancelados e faltantes. Entretanto, suspeitamos que essas tabelas deveriam ser mutuamente exclusivas, de tal forma que não deveria haver interseções entre elas.\n",
    "\n",
    "Vamos tomar a seguinte estratégia para lidar com esse problema:\n",
    "\n",
    "* Todas as interseções de cancelados e faltantes com transações serão removidos, deixando as instâncias somente na tabela transações. Isso pois se o cliente está na tabela de transações significa que ele recebeu o serviço, portanto, não cancelou e nem faltou.\n",
    "\n",
    "* Os clientes que estão na interseção de cancelados e faltantes serão removidos da tabela de faltantes e mantidos na tabela de cancelados. Se o cliente está na lista de cancelados, significa que ele cancelou e, portanto, não faltou."
   ]
  },
  {
   "cell_type": "markdown",
   "metadata": {},
   "source": [
    "Criando flags para auxiliar na remoção das instâncias"
   ]
  },
  {
   "cell_type": "code",
   "execution_count": 58,
   "metadata": {},
   "outputs": [
    {
     "data": {
      "text/plain": [
       "((1862, 13), (240, 7), (59, 4))"
      ]
     },
     "execution_count": 58,
     "metadata": {},
     "output_type": "execute_result"
    }
   ],
   "source": [
    "transacoes.shape , cancelados.shape , faltantes.shape"
   ]
  },
  {
   "cell_type": "code",
   "execution_count": 59,
   "metadata": {},
   "outputs": [],
   "source": [
    "cancelados['to_remove'] = cancelados.index\n",
    "faltantes['to_remove'] = faltantes.index"
   ]
  },
  {
   "cell_type": "code",
   "execution_count": 89,
   "metadata": {},
   "outputs": [
    {
     "ename": "AttributeError",
     "evalue": "'DataFrame' object has no attribute 'drop_duplicated'",
     "output_type": "error",
     "traceback": [
      "\u001b[0;31m---------------------------------------------------------------------------\u001b[0m",
      "\u001b[0;31mAttributeError\u001b[0m                            Traceback (most recent call last)",
      "Cell \u001b[0;32mIn [89], line 6\u001b[0m\n\u001b[1;32m      1\u001b[0m remove \u001b[38;5;241m=\u001b[39m \u001b[43mpd\u001b[49m\u001b[38;5;241;43m.\u001b[39;49m\u001b[43mmerge\u001b[49m\u001b[43m(\u001b[49m\u001b[43mleft\u001b[49m\u001b[43m \u001b[49m\u001b[38;5;241;43m=\u001b[39;49m\u001b[43m \u001b[49m\u001b[43mcancelados\u001b[49m\u001b[43m[\u001b[49m\u001b[43m[\u001b[49m\u001b[38;5;124;43m'\u001b[39;49m\u001b[38;5;124;43mBooking Date\u001b[39;49m\u001b[38;5;124;43m'\u001b[39;49m\u001b[43m,\u001b[49m\u001b[38;5;124;43m'\u001b[39;49m\u001b[38;5;124;43mCode\u001b[39;49m\u001b[38;5;124;43m'\u001b[39;49m\u001b[43m,\u001b[49m\u001b[38;5;124;43m'\u001b[39;49m\u001b[38;5;124;43mto_remove\u001b[39;49m\u001b[38;5;124;43m'\u001b[39;49m\u001b[43m]\u001b[49m\u001b[43m]\u001b[49m\u001b[43m,\u001b[49m\u001b[43m \u001b[49m\n\u001b[1;32m      2\u001b[0m \u001b[43m               \u001b[49m\u001b[43mright\u001b[49m\u001b[43m \u001b[49m\u001b[38;5;241;43m=\u001b[39;49m\u001b[43m \u001b[49m\u001b[43mtransacoes\u001b[49m\u001b[43m[\u001b[49m\u001b[43m[\u001b[49m\u001b[38;5;124;43m'\u001b[39;49m\u001b[38;5;124;43mDate\u001b[39;49m\u001b[38;5;124;43m'\u001b[39;49m\u001b[43m,\u001b[49m\u001b[38;5;124;43m'\u001b[39;49m\u001b[38;5;124;43mClient\u001b[39;49m\u001b[38;5;124;43m'\u001b[39;49m\u001b[43m]\u001b[49m\u001b[43m]\u001b[49m\u001b[43m,\u001b[49m\n\u001b[1;32m      3\u001b[0m \u001b[43m               \u001b[49m\u001b[43mleft_on\u001b[49m\u001b[43m \u001b[49m\u001b[38;5;241;43m=\u001b[39;49m\u001b[43m \u001b[49m\u001b[43m[\u001b[49m\u001b[38;5;124;43m'\u001b[39;49m\u001b[38;5;124;43mCode\u001b[39;49m\u001b[38;5;124;43m'\u001b[39;49m\u001b[43m,\u001b[49m\u001b[38;5;124;43m'\u001b[39;49m\u001b[38;5;124;43mBooking Date\u001b[39;49m\u001b[38;5;124;43m'\u001b[39;49m\u001b[43m]\u001b[49m\u001b[43m,\u001b[49m\u001b[43m \u001b[49m\n\u001b[1;32m      4\u001b[0m \u001b[43m               \u001b[49m\u001b[43mright_on\u001b[49m\u001b[38;5;241;43m=\u001b[39;49m\u001b[43m[\u001b[49m\u001b[38;5;124;43m'\u001b[39;49m\u001b[38;5;124;43mClient\u001b[39;49m\u001b[38;5;124;43m'\u001b[39;49m\u001b[43m,\u001b[49m\u001b[38;5;124;43m'\u001b[39;49m\u001b[38;5;124;43mDate\u001b[39;49m\u001b[38;5;124;43m'\u001b[39;49m\u001b[43m]\u001b[49m\u001b[43m,\u001b[49m\n\u001b[1;32m      5\u001b[0m \u001b[43m               \u001b[49m\u001b[43mhow\u001b[49m\u001b[38;5;241;43m=\u001b[39;49m\u001b[38;5;124;43m'\u001b[39;49m\u001b[38;5;124;43minner\u001b[39;49m\u001b[38;5;124;43m'\u001b[39;49m\u001b[43m,\u001b[49m\n\u001b[0;32m----> 6\u001b[0m \u001b[43m               \u001b[49m\u001b[43mindicator\u001b[49m\u001b[38;5;241;43m=\u001b[39;49m\u001b[38;5;28;43;01mTrue\u001b[39;49;00m\u001b[43m)\u001b[49m\u001b[38;5;241;43m.\u001b[39;49m\u001b[43mdrop_duplicated\u001b[49m()[\u001b[38;5;124m'\u001b[39m\u001b[38;5;124mto_remove\u001b[39m\u001b[38;5;124m'\u001b[39m]\u001b[38;5;241m.\u001b[39mto_list()\n\u001b[1;32m      9\u001b[0m idx \u001b[38;5;241m=\u001b[39m cancelados[cancelados[\u001b[38;5;124m'\u001b[39m\u001b[38;5;124mto_remove\u001b[39m\u001b[38;5;124m'\u001b[39m]\u001b[38;5;241m.\u001b[39mapply(\u001b[38;5;28;01mlambda\u001b[39;00m x: x \u001b[38;5;129;01min\u001b[39;00m remove)]\u001b[38;5;241m.\u001b[39mindex\n\u001b[1;32m     11\u001b[0m \u001b[38;5;28mprint\u001b[39m(\u001b[38;5;124mf\u001b[39m\u001b[38;5;124m\"\u001b[39m\u001b[38;5;124mQuantidade de interseções entre cancelados e transacoes: \u001b[39m\u001b[38;5;132;01m{\u001b[39;00m\u001b[38;5;28mlen\u001b[39m(idx)\u001b[38;5;132;01m}\u001b[39;00m\u001b[38;5;124m\"\u001b[39m)\n",
      "File \u001b[0;32m~/.local/lib/python3.10/site-packages/pandas/core/generic.py:5902\u001b[0m, in \u001b[0;36mNDFrame.__getattr__\u001b[0;34m(self, name)\u001b[0m\n\u001b[1;32m   5895\u001b[0m \u001b[38;5;28;01mif\u001b[39;00m (\n\u001b[1;32m   5896\u001b[0m     name \u001b[38;5;129;01mnot\u001b[39;00m \u001b[38;5;129;01min\u001b[39;00m \u001b[38;5;28mself\u001b[39m\u001b[38;5;241m.\u001b[39m_internal_names_set\n\u001b[1;32m   5897\u001b[0m     \u001b[38;5;129;01mand\u001b[39;00m name \u001b[38;5;129;01mnot\u001b[39;00m \u001b[38;5;129;01min\u001b[39;00m \u001b[38;5;28mself\u001b[39m\u001b[38;5;241m.\u001b[39m_metadata\n\u001b[1;32m   5898\u001b[0m     \u001b[38;5;129;01mand\u001b[39;00m name \u001b[38;5;129;01mnot\u001b[39;00m \u001b[38;5;129;01min\u001b[39;00m \u001b[38;5;28mself\u001b[39m\u001b[38;5;241m.\u001b[39m_accessors\n\u001b[1;32m   5899\u001b[0m     \u001b[38;5;129;01mand\u001b[39;00m \u001b[38;5;28mself\u001b[39m\u001b[38;5;241m.\u001b[39m_info_axis\u001b[38;5;241m.\u001b[39m_can_hold_identifiers_and_holds_name(name)\n\u001b[1;32m   5900\u001b[0m ):\n\u001b[1;32m   5901\u001b[0m     \u001b[38;5;28;01mreturn\u001b[39;00m \u001b[38;5;28mself\u001b[39m[name]\n\u001b[0;32m-> 5902\u001b[0m \u001b[38;5;28;01mreturn\u001b[39;00m \u001b[38;5;28;43mobject\u001b[39;49m\u001b[38;5;241;43m.\u001b[39;49m\u001b[38;5;21;43m__getattribute__\u001b[39;49m\u001b[43m(\u001b[49m\u001b[38;5;28;43mself\u001b[39;49m\u001b[43m,\u001b[49m\u001b[43m \u001b[49m\u001b[43mname\u001b[49m\u001b[43m)\u001b[49m\n",
      "\u001b[0;31mAttributeError\u001b[0m: 'DataFrame' object has no attribute 'drop_duplicated'"
     ]
    }
   ],
   "source": [
    "remove = pd.merge(left = cancelados[['Booking Date','Code','to_remove']], \n",
    "               right = transacoes[['Date','Client']],\n",
    "               left_on = ['Code','Booking Date'], \n",
    "               right_on=['Client','Date'],\n",
    "               how='inner',\n",
    "               indicator=True).drop_duplicated()['to_remove'].to_list()\n",
    "\n",
    "\n",
    "idx = cancelados[cancelados['to_remove'].apply(lambda x: x in remove)].index\n",
    "\n",
    "print(f\"Quantidade de interseções entre cancelados e transacoes: {len(idx)}\")\n",
    "\n",
    "#cancelados = cancelados.drop(idx)\n",
    "\n"
   ]
  },
  {
   "cell_type": "code",
   "execution_count": 68,
   "metadata": {},
   "outputs": [
    {
     "data": {
      "text/plain": [
       "56"
      ]
     },
     "execution_count": 68,
     "metadata": {},
     "output_type": "execute_result"
    }
   ],
   "source": [
    "idx.size"
   ]
  },
  {
   "cell_type": "code",
   "execution_count": 74,
   "metadata": {},
   "outputs": [
    {
     "data": {
      "text/plain": [
       "[2,\n",
       " 4,\n",
       " 7,\n",
       " 9,\n",
       " 12,\n",
       " 12,\n",
       " 12,\n",
       " 12,\n",
       " 12,\n",
       " 13,\n",
       " 13,\n",
       " 13,\n",
       " 13,\n",
       " 13,\n",
       " 18,\n",
       " 18,\n",
       " 19,\n",
       " 20,\n",
       " 20,\n",
       " 20,\n",
       " 30,\n",
       " 38,\n",
       " 54,\n",
       " 62,\n",
       " 62,\n",
       " 68,\n",
       " 69,\n",
       " 70,\n",
       " 71,\n",
       " 77,\n",
       " 77,\n",
       " 77,\n",
       " 77,\n",
       " 80,\n",
       " 80,\n",
       " 82,\n",
       " 85,\n",
       " 86,\n",
       " 94,\n",
       " 97,\n",
       " 101,\n",
       " 101,\n",
       " 101,\n",
       " 109,\n",
       " 109,\n",
       " 115,\n",
       " 119,\n",
       " 126,\n",
       " 127,\n",
       " 130,\n",
       " 130,\n",
       " 131,\n",
       " 131,\n",
       " 137,\n",
       " 137,\n",
       " 139,\n",
       " 141,\n",
       " 147,\n",
       " 152,\n",
       " 152,\n",
       " 157,\n",
       " 158,\n",
       " 159,\n",
       " 165,\n",
       " 177,\n",
       " 195,\n",
       " 197,\n",
       " 198,\n",
       " 201,\n",
       " 209,\n",
       " 215,\n",
       " 216,\n",
       " 217,\n",
       " 219,\n",
       " 227,\n",
       " 231,\n",
       " 236,\n",
       " 237,\n",
       " 237,\n",
       " 237,\n",
       " 238]"
      ]
     },
     "execution_count": 74,
     "metadata": {},
     "output_type": "execute_result"
    }
   ],
   "source": [
    "remove"
   ]
  },
  {
   "cell_type": "code",
   "execution_count": 88,
   "metadata": {},
   "outputs": [
    {
     "data": {
      "text/plain": [
       "0     False\n",
       "1     False\n",
       "2     False\n",
       "3     False\n",
       "4     False\n",
       "      ...  \n",
       "76    False\n",
       "77    False\n",
       "78     True\n",
       "79     True\n",
       "80    False\n",
       "Length: 81, dtype: bool"
      ]
     },
     "execution_count": 88,
     "metadata": {},
     "output_type": "execute_result"
    }
   ],
   "source": [
    " pd.merge(left = cancelados[['Booking Date','Code','to_remove']], \n",
    "               right = transacoes[['Date','Client']],\n",
    "               left_on = ['Code','Booking Date'], \n",
    "               right_on=['Client','Date'],\n",
    "               how='inner',\n",
    "               indicator=True).duplicated()"
   ]
  },
  {
   "cell_type": "code",
   "execution_count": 86,
   "metadata": {},
   "outputs": [
    {
     "data": {
      "text/html": [
       "<div>\n",
       "<style scoped>\n",
       "    .dataframe tbody tr th:only-of-type {\n",
       "        vertical-align: middle;\n",
       "    }\n",
       "\n",
       "    .dataframe tbody tr th {\n",
       "        vertical-align: top;\n",
       "    }\n",
       "\n",
       "    .dataframe thead th {\n",
       "        text-align: right;\n",
       "    }\n",
       "</style>\n",
       "<table border=\"1\" class=\"dataframe\">\n",
       "  <thead>\n",
       "    <tr style=\"text-align: right;\">\n",
       "      <th></th>\n",
       "      <th>Booking Date</th>\n",
       "      <th>Code</th>\n",
       "      <th>to_remove</th>\n",
       "      <th>Date</th>\n",
       "      <th>Client</th>\n",
       "      <th>_merge</th>\n",
       "    </tr>\n",
       "  </thead>\n",
       "  <tbody>\n",
       "    <tr>\n",
       "      <th>0</th>\n",
       "      <td>2018-07-10</td>\n",
       "      <td>MASA01</td>\n",
       "      <td>2</td>\n",
       "      <td>2018-07-10</td>\n",
       "      <td>MASA01</td>\n",
       "      <td>both</td>\n",
       "    </tr>\n",
       "    <tr>\n",
       "      <th>1</th>\n",
       "      <td>2018-07-24</td>\n",
       "      <td>TRUA01</td>\n",
       "      <td>4</td>\n",
       "      <td>2018-07-24</td>\n",
       "      <td>TRUA01</td>\n",
       "      <td>both</td>\n",
       "    </tr>\n",
       "    <tr>\n",
       "      <th>2</th>\n",
       "      <td>2018-07-21</td>\n",
       "      <td>?A01</td>\n",
       "      <td>7</td>\n",
       "      <td>2018-07-21</td>\n",
       "      <td>?A01</td>\n",
       "      <td>both</td>\n",
       "    </tr>\n",
       "    <tr>\n",
       "      <th>3</th>\n",
       "      <td>2018-04-04</td>\n",
       "      <td>SARA01</td>\n",
       "      <td>9</td>\n",
       "      <td>2018-04-04</td>\n",
       "      <td>SARA01</td>\n",
       "      <td>both</td>\n",
       "    </tr>\n",
       "    <tr>\n",
       "      <th>4</th>\n",
       "      <td>2018-06-30</td>\n",
       "      <td>TAMA01</td>\n",
       "      <td>12</td>\n",
       "      <td>2018-06-30</td>\n",
       "      <td>TAMA01</td>\n",
       "      <td>both</td>\n",
       "    </tr>\n",
       "    <tr>\n",
       "      <th>5</th>\n",
       "      <td>2018-06-30</td>\n",
       "      <td>TAMA01</td>\n",
       "      <td>12</td>\n",
       "      <td>2018-06-30</td>\n",
       "      <td>TAMA01</td>\n",
       "      <td>both</td>\n",
       "    </tr>\n",
       "    <tr>\n",
       "      <th>6</th>\n",
       "      <td>2018-06-30</td>\n",
       "      <td>TAMA01</td>\n",
       "      <td>12</td>\n",
       "      <td>2018-06-30</td>\n",
       "      <td>TAMA01</td>\n",
       "      <td>both</td>\n",
       "    </tr>\n",
       "    <tr>\n",
       "      <th>7</th>\n",
       "      <td>2018-06-30</td>\n",
       "      <td>TAMA01</td>\n",
       "      <td>12</td>\n",
       "      <td>2018-06-30</td>\n",
       "      <td>TAMA01</td>\n",
       "      <td>both</td>\n",
       "    </tr>\n",
       "    <tr>\n",
       "      <th>8</th>\n",
       "      <td>2018-06-30</td>\n",
       "      <td>TAMA01</td>\n",
       "      <td>12</td>\n",
       "      <td>2018-06-30</td>\n",
       "      <td>TAMA01</td>\n",
       "      <td>both</td>\n",
       "    </tr>\n",
       "    <tr>\n",
       "      <th>9</th>\n",
       "      <td>2018-06-30</td>\n",
       "      <td>TAMA01</td>\n",
       "      <td>13</td>\n",
       "      <td>2018-06-30</td>\n",
       "      <td>TAMA01</td>\n",
       "      <td>both</td>\n",
       "    </tr>\n",
       "    <tr>\n",
       "      <th>10</th>\n",
       "      <td>2018-06-30</td>\n",
       "      <td>TAMA01</td>\n",
       "      <td>13</td>\n",
       "      <td>2018-06-30</td>\n",
       "      <td>TAMA01</td>\n",
       "      <td>both</td>\n",
       "    </tr>\n",
       "    <tr>\n",
       "      <th>11</th>\n",
       "      <td>2018-06-30</td>\n",
       "      <td>TAMA01</td>\n",
       "      <td>13</td>\n",
       "      <td>2018-06-30</td>\n",
       "      <td>TAMA01</td>\n",
       "      <td>both</td>\n",
       "    </tr>\n",
       "    <tr>\n",
       "      <th>12</th>\n",
       "      <td>2018-06-30</td>\n",
       "      <td>TAMA01</td>\n",
       "      <td>13</td>\n",
       "      <td>2018-06-30</td>\n",
       "      <td>TAMA01</td>\n",
       "      <td>both</td>\n",
       "    </tr>\n",
       "    <tr>\n",
       "      <th>13</th>\n",
       "      <td>2018-06-30</td>\n",
       "      <td>TAMA01</td>\n",
       "      <td>13</td>\n",
       "      <td>2018-06-30</td>\n",
       "      <td>TAMA01</td>\n",
       "      <td>both</td>\n",
       "    </tr>\n",
       "    <tr>\n",
       "      <th>14</th>\n",
       "      <td>2018-07-12</td>\n",
       "      <td>JACA01</td>\n",
       "      <td>18</td>\n",
       "      <td>2018-07-12</td>\n",
       "      <td>JACA01</td>\n",
       "      <td>both</td>\n",
       "    </tr>\n",
       "    <tr>\n",
       "      <th>15</th>\n",
       "      <td>2018-07-12</td>\n",
       "      <td>JACA01</td>\n",
       "      <td>18</td>\n",
       "      <td>2018-07-12</td>\n",
       "      <td>JACA01</td>\n",
       "      <td>both</td>\n",
       "    </tr>\n",
       "    <tr>\n",
       "      <th>16</th>\n",
       "      <td>2018-07-26</td>\n",
       "      <td>GOOA02</td>\n",
       "      <td>19</td>\n",
       "      <td>2018-07-26</td>\n",
       "      <td>GOOA02</td>\n",
       "      <td>both</td>\n",
       "    </tr>\n",
       "    <tr>\n",
       "      <th>17</th>\n",
       "      <td>2018-05-31</td>\n",
       "      <td>PAUB01</td>\n",
       "      <td>20</td>\n",
       "      <td>2018-05-31</td>\n",
       "      <td>PAUB01</td>\n",
       "      <td>both</td>\n",
       "    </tr>\n",
       "    <tr>\n",
       "      <th>18</th>\n",
       "      <td>2018-05-31</td>\n",
       "      <td>PAUB01</td>\n",
       "      <td>20</td>\n",
       "      <td>2018-05-31</td>\n",
       "      <td>PAUB01</td>\n",
       "      <td>both</td>\n",
       "    </tr>\n",
       "    <tr>\n",
       "      <th>19</th>\n",
       "      <td>2018-05-31</td>\n",
       "      <td>PAUB01</td>\n",
       "      <td>20</td>\n",
       "      <td>2018-05-31</td>\n",
       "      <td>PAUB01</td>\n",
       "      <td>both</td>\n",
       "    </tr>\n",
       "    <tr>\n",
       "      <th>20</th>\n",
       "      <td>2018-04-26</td>\n",
       "      <td>MOIB01</td>\n",
       "      <td>30</td>\n",
       "      <td>2018-04-26</td>\n",
       "      <td>MOIB01</td>\n",
       "      <td>both</td>\n",
       "    </tr>\n",
       "  </tbody>\n",
       "</table>\n",
       "</div>"
      ],
      "text/plain": [
       "   Booking Date    Code  to_remove        Date  Client _merge\n",
       "0    2018-07-10  MASA01          2  2018-07-10  MASA01   both\n",
       "1    2018-07-24  TRUA01          4  2018-07-24  TRUA01   both\n",
       "2    2018-07-21    ?A01          7  2018-07-21    ?A01   both\n",
       "3    2018-04-04  SARA01          9  2018-04-04  SARA01   both\n",
       "4    2018-06-30  TAMA01         12  2018-06-30  TAMA01   both\n",
       "5    2018-06-30  TAMA01         12  2018-06-30  TAMA01   both\n",
       "6    2018-06-30  TAMA01         12  2018-06-30  TAMA01   both\n",
       "7    2018-06-30  TAMA01         12  2018-06-30  TAMA01   both\n",
       "8    2018-06-30  TAMA01         12  2018-06-30  TAMA01   both\n",
       "9    2018-06-30  TAMA01         13  2018-06-30  TAMA01   both\n",
       "10   2018-06-30  TAMA01         13  2018-06-30  TAMA01   both\n",
       "11   2018-06-30  TAMA01         13  2018-06-30  TAMA01   both\n",
       "12   2018-06-30  TAMA01         13  2018-06-30  TAMA01   both\n",
       "13   2018-06-30  TAMA01         13  2018-06-30  TAMA01   both\n",
       "14   2018-07-12  JACA01         18  2018-07-12  JACA01   both\n",
       "15   2018-07-12  JACA01         18  2018-07-12  JACA01   both\n",
       "16   2018-07-26  GOOA02         19  2018-07-26  GOOA02   both\n",
       "17   2018-05-31  PAUB01         20  2018-05-31  PAUB01   both\n",
       "18   2018-05-31  PAUB01         20  2018-05-31  PAUB01   both\n",
       "19   2018-05-31  PAUB01         20  2018-05-31  PAUB01   both\n",
       "20   2018-04-26  MOIB01         30  2018-04-26  MOIB01   both"
      ]
     },
     "execution_count": 86,
     "metadata": {},
     "output_type": "execute_result"
    }
   ],
   "source": [
    " pd.merge(left = cancelados[['Booking Date','Code','to_remove']], \n",
    "               right = transacoes[['Date','Client']],\n",
    "               left_on = ['Code','Booking Date'], \n",
    "               right_on=['Client','Date'],\n",
    "               how='inner',\n",
    "               indicator=True).loc[0:20,:]"
   ]
  },
  {
   "cell_type": "code",
   "execution_count": 71,
   "metadata": {},
   "outputs": [
    {
     "data": {
      "text/plain": [
       "0      False\n",
       "1      False\n",
       "2       True\n",
       "3      False\n",
       "4       True\n",
       "       ...  \n",
       "235    False\n",
       "236     True\n",
       "237     True\n",
       "238     True\n",
       "239    False\n",
       "Name: to_remove, Length: 240, dtype: bool"
      ]
     },
     "execution_count": 71,
     "metadata": {},
     "output_type": "execute_result"
    }
   ],
   "source": [
    "cancelados['to_remove'].apply(lambda x: x in remove)"
   ]
  }
 ],
 "metadata": {
  "kernelspec": {
   "display_name": "Python 3 (ipykernel)",
   "language": "python",
   "name": "python3"
  },
  "language_info": {
   "codemirror_mode": {
    "name": "ipython",
    "version": 3
   },
   "file_extension": ".py",
   "mimetype": "text/x-python",
   "name": "python",
   "nbconvert_exporter": "python",
   "pygments_lexer": "ipython3",
   "version": "3.10.12"
  },
  "vscode": {
   "interpreter": {
    "hash": "e491e169e569a104ff53dbab53c81d0e4f5587327dbdbb0478485f96aa7778c6"
   }
  }
 },
 "nbformat": 4,
 "nbformat_minor": 2
}
