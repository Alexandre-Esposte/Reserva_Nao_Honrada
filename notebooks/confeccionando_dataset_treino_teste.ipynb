{
 "cells": [
  {
   "cell_type": "code",
   "execution_count": 1,
   "metadata": {},
   "outputs": [],
   "source": [
    "import pandas as pd\n",
    "import numpy as np\n",
    "import os"
   ]
  },
  {
   "cell_type": "code",
   "execution_count": 2,
   "metadata": {},
   "outputs": [],
   "source": [
    "datasets_path = \"../datasets_for_ml/\"\n",
    "\n",
    "reservas_futuras = pd.read_csv(datasets_path+'reservas_futuras.csv')\n",
    "transacoes = pd.read_csv(datasets_path+'transacoes.csv')\n",
    "cancelados = pd.read_csv(datasets_path+'cancelados.csv')\n",
    "faltantes = pd.read_csv(datasets_path+'faltantes.csv')\n",
    "\n",
    "transacoes['Date'] = pd.to_datetime(transacoes['Date'])\n",
    "cancelados['Booking Date'] = pd.to_datetime(cancelados['Booking Date'])\n",
    "cancelados['Cancel Date'] = pd.to_datetime(cancelados['Cancel Date'])\n",
    "faltantes['Date'] = pd.to_datetime(faltantes['Date'])\n",
    "reservas_futuras['Date'] = pd.to_datetime(reservas_futuras['Date'])"
   ]
  },
  {
   "cell_type": "markdown",
   "metadata": {},
   "source": [
    "Vimos na análise dos dados que há interseções entre as tabelas de transações, cancelados e faltantes. Entretanto, suspeitamos que essas tabelas deveriam ser mutuamente exclusivas, de tal forma que não deveria haver interseções entre elas.\n",
    "\n",
    "Vamos tomar a seguinte estratégia para lidar com esse problema:\n",
    "\n",
    "* Todas as interseções de cancelados e faltantes com transações serão removidos, deixando as instâncias somente na tabela transações. Isso pois se o cliente está na tabela de transações significa que ele recebeu o serviço, portanto, não cancelou e nem faltou.\n",
    "\n",
    "* Os clientes que estão na interseção de cancelados e faltantes serão removidos da tabela de faltantes e mantidos na tabela de cancelados. Se o cliente está na lista de cancelados, significa que ele cancelou e, portanto, não faltou."
   ]
  },
  {
   "cell_type": "markdown",
   "metadata": {},
   "source": [
    "Criando flags para auxiliar na remoção das instâncias"
   ]
  },
  {
   "cell_type": "code",
   "execution_count": 3,
   "metadata": {},
   "outputs": [
    {
     "data": {
      "text/plain": [
       "((1862, 13), (240, 7), (59, 4))"
      ]
     },
     "execution_count": 3,
     "metadata": {},
     "output_type": "execute_result"
    }
   ],
   "source": [
    "# Apenas para controle\n",
    "transacoes.shape , cancelados.shape , faltantes.shape"
   ]
  },
  {
   "cell_type": "code",
   "execution_count": 4,
   "metadata": {},
   "outputs": [],
   "source": [
    "cancelados['to_remove'] = cancelados.index\n",
    "faltantes['to_remove'] = faltantes.index"
   ]
  },
  {
   "cell_type": "code",
   "execution_count": 5,
   "metadata": {},
   "outputs": [
    {
     "name": "stdout",
     "output_type": "stream",
     "text": [
      "Quantidade de interseções entre cancelados e transacoes: 56\n"
     ]
    }
   ],
   "source": [
    "remove = pd.merge(left = cancelados[['Booking Date','Code','to_remove']], \n",
    "               right = transacoes[['Date','Client']],\n",
    "               left_on = ['Code','Booking Date'], \n",
    "               right_on=['Client','Date'],\n",
    "               how='inner',\n",
    "               indicator=True).drop_duplicates()['to_remove']\n",
    "\n",
    "\n",
    "print(f\"Quantidade de interseções entre cancelados e transacoes: {len(remove)}\")\n",
    "\n",
    "cancelados = cancelados.drop(remove)\n",
    "\n"
   ]
  },
  {
   "cell_type": "code",
   "execution_count": 6,
   "metadata": {},
   "outputs": [
    {
     "name": "stdout",
     "output_type": "stream",
     "text": [
      "Quantidade de interseções entre faltantes e transacoes: 1\n"
     ]
    }
   ],
   "source": [
    "remove = pd.merge(left = faltantes[['Date','Code','to_remove']], \n",
    "               right = transacoes[['Date','Client']],\n",
    "               left_on = ['Code','Date'], \n",
    "               right_on=['Client','Date'],\n",
    "               how='inner',\n",
    "               indicator=True).drop_duplicates()['to_remove']\n",
    "\n",
    "\n",
    "print(f\"Quantidade de interseções entre faltantes e transacoes: {len(remove)}\")\n",
    "faltantes = faltantes.drop(remove)"
   ]
  },
  {
   "cell_type": "code",
   "execution_count": 7,
   "metadata": {},
   "outputs": [
    {
     "name": "stdout",
     "output_type": "stream",
     "text": [
      "Quantidade de interseções entre cancelados e transacoes: 4\n"
     ]
    }
   ],
   "source": [
    "remove = pd.merge(left = cancelados[['Booking Date','Code']], \n",
    "               right = faltantes[['Date','Code','to_remove']],\n",
    "               left_on = ['Code','Booking Date'], \n",
    "               right_on=['Code','Date'],\n",
    "               how='inner',\n",
    "               indicator=True).drop_duplicates()['to_remove']\n",
    "\n",
    "\n",
    "print(f\"Quantidade de interseções entre cancelados e transacoes: {len(remove)}\")\n",
    "faltantes = faltantes.drop(remove)"
   ]
  },
  {
   "cell_type": "code",
   "execution_count": 8,
   "metadata": {},
   "outputs": [],
   "source": [
    "cancelados = cancelados.drop('to_remove',axis=1)\n",
    "faltantes = faltantes.drop('to_remove',axis=1)"
   ]
  },
  {
   "cell_type": "code",
   "execution_count": 9,
   "metadata": {},
   "outputs": [
    {
     "data": {
      "text/plain": [
       "((1862, 13), (184, 7), (54, 4))"
      ]
     },
     "execution_count": 9,
     "metadata": {},
     "output_type": "execute_result"
    }
   ],
   "source": [
    "# Apenas para controle\n",
    "transacoes.shape , cancelados.shape , faltantes.shape"
   ]
  },
  {
   "cell_type": "markdown",
   "metadata": {},
   "source": [
    "Nota-se que não há mais interseções entre as tabelas"
   ]
  },
  {
   "cell_type": "code",
   "execution_count": 10,
   "metadata": {},
   "outputs": [
    {
     "name": "stdout",
     "output_type": "stream",
     "text": [
      "Transações vs cancelados\n"
     ]
    },
    {
     "data": {
      "text/html": [
       "<div>\n",
       "<style scoped>\n",
       "    .dataframe tbody tr th:only-of-type {\n",
       "        vertical-align: middle;\n",
       "    }\n",
       "\n",
       "    .dataframe tbody tr th {\n",
       "        vertical-align: top;\n",
       "    }\n",
       "\n",
       "    .dataframe thead th {\n",
       "        text-align: right;\n",
       "    }\n",
       "</style>\n",
       "<table border=\"1\" class=\"dataframe\">\n",
       "  <thead>\n",
       "    <tr style=\"text-align: right;\">\n",
       "      <th></th>\n",
       "      <th>Cancel Date</th>\n",
       "      <th>Code</th>\n",
       "      <th>Service</th>\n",
       "      <th>Staff_x</th>\n",
       "      <th>Booking Date</th>\n",
       "      <th>Canceled By</th>\n",
       "      <th>Days</th>\n",
       "      <th>Receipt</th>\n",
       "      <th>Date</th>\n",
       "      <th>Description</th>\n",
       "      <th>...</th>\n",
       "      <th>Staff_y</th>\n",
       "      <th>Quantity</th>\n",
       "      <th>Amount</th>\n",
       "      <th>GST</th>\n",
       "      <th>PST</th>\n",
       "      <th>mes_nome</th>\n",
       "      <th>mes_n</th>\n",
       "      <th>dia_nome</th>\n",
       "      <th>dia_n</th>\n",
       "      <th>_merge</th>\n",
       "    </tr>\n",
       "  </thead>\n",
       "  <tbody>\n",
       "  </tbody>\n",
       "</table>\n",
       "<p>0 rows × 21 columns</p>\n",
       "</div>"
      ],
      "text/plain": [
       "Empty DataFrame\n",
       "Columns: [Cancel Date, Code, Service, Staff_x, Booking Date, Canceled By, Days, Receipt, Date, Description, Client, Staff_y, Quantity, Amount, GST, PST, mes_nome, mes_n, dia_nome, dia_n, _merge]\n",
       "Index: []\n",
       "\n",
       "[0 rows x 21 columns]"
      ]
     },
     "metadata": {},
     "output_type": "display_data"
    },
    {
     "name": "stdout",
     "output_type": "stream",
     "text": [
      "---------------------------------------------------------------------------------------------------- \n",
      "Transações vs faltantes\n"
     ]
    },
    {
     "data": {
      "text/html": [
       "<div>\n",
       "<style scoped>\n",
       "    .dataframe tbody tr th:only-of-type {\n",
       "        vertical-align: middle;\n",
       "    }\n",
       "\n",
       "    .dataframe tbody tr th {\n",
       "        vertical-align: top;\n",
       "    }\n",
       "\n",
       "    .dataframe thead th {\n",
       "        text-align: right;\n",
       "    }\n",
       "</style>\n",
       "<table border=\"1\" class=\"dataframe\">\n",
       "  <thead>\n",
       "    <tr style=\"text-align: right;\">\n",
       "      <th></th>\n",
       "      <th>Date</th>\n",
       "      <th>Code</th>\n",
       "      <th>Service</th>\n",
       "      <th>Staff_x</th>\n",
       "      <th>Receipt</th>\n",
       "      <th>Description</th>\n",
       "      <th>Client</th>\n",
       "      <th>Staff_y</th>\n",
       "      <th>Quantity</th>\n",
       "      <th>Amount</th>\n",
       "      <th>GST</th>\n",
       "      <th>PST</th>\n",
       "      <th>mes_nome</th>\n",
       "      <th>mes_n</th>\n",
       "      <th>dia_nome</th>\n",
       "      <th>dia_n</th>\n",
       "      <th>_merge</th>\n",
       "    </tr>\n",
       "  </thead>\n",
       "  <tbody>\n",
       "  </tbody>\n",
       "</table>\n",
       "</div>"
      ],
      "text/plain": [
       "Empty DataFrame\n",
       "Columns: [Date, Code, Service, Staff_x, Receipt, Description, Client, Staff_y, Quantity, Amount, GST, PST, mes_nome, mes_n, dia_nome, dia_n, _merge]\n",
       "Index: []"
      ]
     },
     "metadata": {},
     "output_type": "display_data"
    },
    {
     "name": "stdout",
     "output_type": "stream",
     "text": [
      "---------------------------------------------------------------------------------------------------- \n",
      "Faltantes vs cancelados\n"
     ]
    },
    {
     "data": {
      "text/html": [
       "<div>\n",
       "<style scoped>\n",
       "    .dataframe tbody tr th:only-of-type {\n",
       "        vertical-align: middle;\n",
       "    }\n",
       "\n",
       "    .dataframe tbody tr th {\n",
       "        vertical-align: top;\n",
       "    }\n",
       "\n",
       "    .dataframe thead th {\n",
       "        text-align: right;\n",
       "    }\n",
       "</style>\n",
       "<table border=\"1\" class=\"dataframe\">\n",
       "  <thead>\n",
       "    <tr style=\"text-align: right;\">\n",
       "      <th></th>\n",
       "      <th>Cancel Date</th>\n",
       "      <th>Code</th>\n",
       "      <th>Service_x</th>\n",
       "      <th>Staff_x</th>\n",
       "      <th>Booking Date</th>\n",
       "      <th>Canceled By</th>\n",
       "      <th>Days</th>\n",
       "      <th>Date</th>\n",
       "      <th>Service_y</th>\n",
       "      <th>Staff_y</th>\n",
       "      <th>_merge</th>\n",
       "    </tr>\n",
       "  </thead>\n",
       "  <tbody>\n",
       "  </tbody>\n",
       "</table>\n",
       "</div>"
      ],
      "text/plain": [
       "Empty DataFrame\n",
       "Columns: [Cancel Date, Code, Service_x, Staff_x, Booking Date, Canceled By, Days, Date, Service_y, Staff_y, _merge]\n",
       "Index: []"
      ]
     },
     "metadata": {},
     "output_type": "display_data"
    }
   ],
   "source": [
    "print('Transações vs cancelados')\n",
    "display(pd.merge(left = cancelados, \n",
    "               right = transacoes,\n",
    "               left_on = ['Code','Booking Date'], \n",
    "               right_on=['Client','Date'],\n",
    "               how='inner',\n",
    "               indicator=True))\n",
    "\n",
    "print(\"-\"*100,'\\nTransações vs faltantes')\n",
    "display(pd.merge(left = faltantes, \n",
    "               right = transacoes,\n",
    "               left_on = ['Code','Date'], \n",
    "               right_on=['Client','Date'],\n",
    "               how='inner',\n",
    "               indicator=True))\n",
    "\n",
    "print(\"-\"*100,'\\nFaltantes vs cancelados')\n",
    "display(pd.merge(left = cancelados, \n",
    "               right = faltantes,\n",
    "               left_on = ['Code','Booking Date'], \n",
    "               right_on=['Code','Date'],\n",
    "               how='inner',\n",
    "               indicator=True))"
   ]
  },
  {
   "cell_type": "markdown",
   "metadata": {},
   "source": [
    "## **Construção do dataset para treinamento, teste e validação**"
   ]
  },
  {
   "cell_type": "markdown",
   "metadata": {},
   "source": [
    "O objetivo do projeto consiste em desenvolver um classificador que seja capaz de identificar os clientes que não sigam as políticas do salão. Portanto, as únicas informações que teremos acesso para realizar essa predição será o histórico do cliente e as informações passadas por ele no momento da reserva.\n",
    "\n",
    "Logo, o histórico do cliente será de muita importância para o nosso desenvolvimento. Portanto, não podemos simplesmente elaborar um dataset de treino considerando todas as instâncias das tabelas, uma vez que existe uma relação temporal nos dados mesmo que o problema não se configure com o de uma série temporal.\n",
    "\n",
    "Dito isso, vamos seguir da seguinte maneira:\n",
    "\n",
    "> 1. Vamos separar os primeiros quatro meses (Março a Junho) para elaborar o dataset de treino. Os meses subsequentes serão utilizados para teste.\n",
    "\n",
    "> 2. Com a tabela de faltantes vamos criar uma flag para realizar a contagem de quantas vezes um dado cliente faltou durante os 3 meses de referência. Podemos obter também o staff e serviço mais frequente durante esse histórico de faltas. \n",
    "\n",
    "> 3. Com a tabela de cancelados podemos gerar uma flag informando quantas vezes um determinado cliente cancelou. Podemos obter a média/mediana da diferença entre as datas de cancelamento e reserva, o staff mais frequente e o serviço mais frequente.\n",
    "\n",
    "> 4. Com a tabela transações conseguimos obter as métricas de recência, frequência e valor, o staff e dia mais frequentes além da quantidade de serviços prestado por dia.\n",
    "\n",
    "\n",
    "O target será composto por um valor binário, o valor zero corresponderá aos clientes que seguiu a política do salão e o valor um corresponderá aos clientes que não seguiram a política do salão.\n",
    "\n",
    "Desse modo, será atribuído o target igual a 1 para todas as instâncias que  tiverem o número de faltas acima de 0 e/ou as instâncias cujas diferenças entre a data de reserva e de cancelamento são menores que dois dias. Serão atribuídas o valor 0 para as demais instâncias.\n",
    "\n",
    "\n",
    "Como vimos no EDA, a tabela reservas futuras corresponde justamente às reservas realizadas pelos cientes. A princípio não pretendo utilizar essa tabela, dado que o treino e o teste eu consigo das demais tabelas. Entretanto, o que receberíamos em produção seria justamente a tabela de reservas futuras. Com essa tabela conseguimos rastrear o histórico do cliente e efetuar a predição.\n",
    "\n",
    "Um ponto de observação é importante. Clientes que nunca foram ao salão não apresentam histórico, desse modo, precisaríamos lidar com essa situação em produção. Ao meu ver, o mais prudente seria não realizar a estimativa para esses novos clientes, uma vez que não há o histórico deles.\n",
    "\n",
    "Observação: No EDA concluímos que o nosso intervalo de tempo compreende 136 dias ou pouco mais de 4 meses. Entretanto, esses dias estão distribuídos ao longo de Março a Julho. Esse pequeno detalhe pode gerar algumas dúvidas."
   ]
  },
  {
   "cell_type": "code",
   "execution_count": 11,
   "metadata": {},
   "outputs": [],
   "source": [
    "transacoes_train = transacoes[transacoes['Date'].apply(lambda x: x.month <= 6)]\n",
    "transacoes_test = transacoes[transacoes['Date'].apply(lambda x: x.month > 6)]\n",
    "\n",
    "cancelados_train = cancelados[cancelados['Booking Date'].apply(lambda x: x.month <= 6)]\n",
    "cancelados_test =  cancelados[cancelados['Booking Date'].apply(lambda x: x.month >6)]\n",
    "\n",
    "faltantes_train = faltantes[faltantes['Date'].apply(lambda x: x.month <= 6)]\n",
    "faltantes_test =  faltantes[faltantes['Date'].apply(lambda x: x.month > 6)]\n",
    "\n",
    "train = pd.DataFrame()\n",
    "test = pd.DataFrame()\n"
   ]
  },
  {
   "cell_type": "code",
   "execution_count": 12,
   "metadata": {},
   "outputs": [],
   "source": [
    "train['cliente'] = transacoes_train['Client'].unique()\n",
    "\n",
    "test['cliente'] = transacoes_test['Client'].unique()"
   ]
  },
  {
   "cell_type": "code",
   "execution_count": 13,
   "metadata": {},
   "outputs": [
    {
     "data": {
      "text/plain": [
       "((650, 1), (321, 1))"
      ]
     },
     "execution_count": 13,
     "metadata": {},
     "output_type": "execute_result"
    }
   ],
   "source": [
    "train.shape,test.shape"
   ]
  },
  {
   "cell_type": "markdown",
   "metadata": {},
   "source": [
    "Conferindo a seguir os meses para os datasets de treino  e teste"
   ]
  },
  {
   "cell_type": "code",
   "execution_count": 14,
   "metadata": {},
   "outputs": [
    {
     "data": {
      "text/plain": [
       "array(['March', 'April', 'June', 'May'], dtype=object)"
      ]
     },
     "execution_count": 14,
     "metadata": {},
     "output_type": "execute_result"
    }
   ],
   "source": [
    "transacoes_train['mes_nome'].unique()"
   ]
  },
  {
   "cell_type": "code",
   "execution_count": 15,
   "metadata": {},
   "outputs": [
    {
     "data": {
      "text/plain": [
       "array(['July'], dtype=object)"
      ]
     },
     "execution_count": 15,
     "metadata": {},
     "output_type": "execute_result"
    }
   ],
   "source": [
    "transacoes_test['mes_nome'].unique()"
   ]
  },
  {
   "cell_type": "markdown",
   "metadata": {},
   "source": [
    "Vamos iniciar da tabela mais simples para a tabela mais complicada. Vamos começar por faltantes\n",
    "\n",
    "1. Calcular a quantidade de vezes que houve falta por cliente\n",
    "\n",
    "2. Staff mais frequente\n",
    "\n",
    "3. Serviço mais frequente"
   ]
  },
  {
   "cell_type": "code",
   "execution_count": 16,
   "metadata": {},
   "outputs": [],
   "source": [
    "qt_faltas = faltantes_train.groupby('Code').size().to_frame('qte_faltas').reset_index()\n",
    "\n",
    "train = pd.merge(left = train,right = qt_faltas, left_on='cliente',right_on='Code',how='left')\n",
    "train = train.fillna(0)\n",
    "train = train.drop('Code',axis=1)\n"
   ]
  },
  {
   "cell_type": "code",
   "execution_count": 17,
   "metadata": {},
   "outputs": [],
   "source": [
    "service_moda = faltantes_train.groupby('Code').apply(lambda x: x['Service'].mode()[0]).to_frame('moda_servico_faltante').reset_index()\n",
    "\n",
    "train = pd.merge(left = train,right = service_moda, left_on='cliente',right_on='Code',how='left')\n",
    "train = train.drop('Code',axis=1)"
   ]
  },
  {
   "cell_type": "code",
   "execution_count": 18,
   "metadata": {},
   "outputs": [],
   "source": [
    "staff_moda = faltantes_train.groupby('Code').apply(lambda x: x['Staff'].mode()[0]).to_frame('moda_staff_faltante').reset_index()\n",
    "\n",
    "train = pd.merge(left = train,right = staff_moda, left_on='cliente',right_on='Code',how='left')\n",
    "train = train.drop('Code',axis=1)"
   ]
  },
  {
   "cell_type": "markdown",
   "metadata": {},
   "source": [
    "Vamos para os cancelados"
   ]
  },
  {
   "cell_type": "markdown",
   "metadata": {},
   "source": [
    "1. Calcular o serviço mais frequente\n",
    "\n",
    "2. Staff mais frequente\n",
    "\n",
    "3. Staff que cancelou mais frequente\n",
    "\n",
    "4. A média da antecedência de cancelamento\n",
    "\n",
    "5. Quantidade de vezes que cancelou"
   ]
  },
  {
   "cell_type": "code",
   "execution_count": 19,
   "metadata": {},
   "outputs": [],
   "source": [
    "aux = cancelados_train.groupby('Code').apply(lambda x: x['Service'].mode()[0]).to_frame('moda_servico_cancelado').reset_index()\n",
    "\n",
    "\n",
    "train = pd.merge(left = train,right = aux, left_on='cliente',right_on='Code',how='left')\n",
    "train = train.drop('Code',axis=1)\n"
   ]
  },
  {
   "cell_type": "code",
   "execution_count": 20,
   "metadata": {},
   "outputs": [],
   "source": [
    "aux = cancelados_train.groupby('Code').apply(lambda x: x['Staff'].mode()[0]).to_frame('moda_staff_cancelado').reset_index()\n",
    "\n",
    "\n",
    "train = pd.merge(left = train,right = aux, left_on='cliente',right_on='Code',how='left')\n",
    "train = train.drop('Code',axis=1)\n"
   ]
  },
  {
   "cell_type": "code",
   "execution_count": 21,
   "metadata": {},
   "outputs": [],
   "source": [
    "aux = cancelados_train.groupby('Code').apply(lambda x: x['Service'].mode()[0]).to_frame('moda_staff_cancelador_cancelado').reset_index()\n",
    "\n",
    "\n",
    "train = pd.merge(left = train,right = aux, left_on='cliente',right_on='Code',how='left')\n",
    "train = train.drop('Code',axis=1)\n"
   ]
  },
  {
   "cell_type": "code",
   "execution_count": 22,
   "metadata": {},
   "outputs": [],
   "source": [
    "aux = cancelados_train.groupby('Code')['Days'].mean().to_frame('antecedencia').reset_index()\n",
    "\n",
    "train = pd.merge(left = train,right = aux, left_on='cliente',right_on='Code',how='left')\n",
    "train = train.drop('Code',axis=1)"
   ]
  },
  {
   "cell_type": "code",
   "execution_count": 23,
   "metadata": {},
   "outputs": [],
   "source": [
    "aux = cancelados_train.groupby('Code').size().to_frame('qte_cancelamento').reset_index()\n",
    "\n",
    "train = pd.merge(left = train,right = aux, left_on='cliente',right_on='Code',how='left')\n",
    "train = train.drop('Code',axis=1)\n",
    "train['qte_cancelamento'] = train['qte_cancelamento'].fillna(0)"
   ]
  },
  {
   "cell_type": "markdown",
   "metadata": {},
   "source": [
    "Vamos para a tabela transacoes"
   ]
  },
  {
   "cell_type": "markdown",
   "metadata": {},
   "source": [
    "1. Calcular a média da quantidade de serviços por dia (receipt)\n",
    "\n",
    "2. Calcular o Staff mais frequente\n",
    "\n",
    "3. Calcular recência\n",
    "\n",
    "4. Calcular frequência\n",
    "\n",
    "5. Calcular valor\n",
    "\n",
    "6. Calcular o dia_nome mais frequente"
   ]
  },
  {
   "cell_type": "code",
   "execution_count": 24,
   "metadata": {},
   "outputs": [
    {
     "data": {
      "text/html": [
       "<div>\n",
       "<style scoped>\n",
       "    .dataframe tbody tr th:only-of-type {\n",
       "        vertical-align: middle;\n",
       "    }\n",
       "\n",
       "    .dataframe tbody tr th {\n",
       "        vertical-align: top;\n",
       "    }\n",
       "\n",
       "    .dataframe thead th {\n",
       "        text-align: right;\n",
       "    }\n",
       "</style>\n",
       "<table border=\"1\" class=\"dataframe\">\n",
       "  <thead>\n",
       "    <tr style=\"text-align: right;\">\n",
       "      <th></th>\n",
       "      <th>Receipt</th>\n",
       "      <th>Date</th>\n",
       "      <th>Description</th>\n",
       "      <th>Client</th>\n",
       "      <th>Staff</th>\n",
       "      <th>Quantity</th>\n",
       "      <th>Amount</th>\n",
       "      <th>GST</th>\n",
       "      <th>PST</th>\n",
       "      <th>mes_nome</th>\n",
       "      <th>mes_n</th>\n",
       "      <th>dia_nome</th>\n",
       "      <th>dia_n</th>\n",
       "    </tr>\n",
       "  </thead>\n",
       "  <tbody>\n",
       "    <tr>\n",
       "      <th>0</th>\n",
       "      <td>10</td>\n",
       "      <td>2018-03-15</td>\n",
       "      <td>Women's hair cut</td>\n",
       "      <td>KERT01</td>\n",
       "      <td>JJ</td>\n",
       "      <td>1</td>\n",
       "      <td>82.0</td>\n",
       "      <td>4.10</td>\n",
       "      <td>6.56</td>\n",
       "      <td>March</td>\n",
       "      <td>3</td>\n",
       "      <td>Thursday</td>\n",
       "      <td>3</td>\n",
       "    </tr>\n",
       "    <tr>\n",
       "      <th>1</th>\n",
       "      <td>100</td>\n",
       "      <td>2018-04-05</td>\n",
       "      <td>Women's hair cut</td>\n",
       "      <td>COOM01</td>\n",
       "      <td>SINEAD</td>\n",
       "      <td>1</td>\n",
       "      <td>70.0</td>\n",
       "      <td>3.50</td>\n",
       "      <td>5.60</td>\n",
       "      <td>April</td>\n",
       "      <td>4</td>\n",
       "      <td>Thursday</td>\n",
       "      <td>3</td>\n",
       "    </tr>\n",
       "    <tr>\n",
       "      <th>2</th>\n",
       "      <td>1000</td>\n",
       "      <td>2018-06-09</td>\n",
       "      <td>Consultation</td>\n",
       "      <td>PEDM01</td>\n",
       "      <td>JJ</td>\n",
       "      <td>1</td>\n",
       "      <td>0.0</td>\n",
       "      <td>0.00</td>\n",
       "      <td>0.00</td>\n",
       "      <td>June</td>\n",
       "      <td>6</td>\n",
       "      <td>Saturday</td>\n",
       "      <td>5</td>\n",
       "    </tr>\n",
       "    <tr>\n",
       "      <th>3</th>\n",
       "      <td>1001</td>\n",
       "      <td>2018-06-09</td>\n",
       "      <td>Women's hair cut</td>\n",
       "      <td>BAIS01</td>\n",
       "      <td>KELLY</td>\n",
       "      <td>1</td>\n",
       "      <td>55.0</td>\n",
       "      <td>2.75</td>\n",
       "      <td>4.40</td>\n",
       "      <td>June</td>\n",
       "      <td>6</td>\n",
       "      <td>Saturday</td>\n",
       "      <td>5</td>\n",
       "    </tr>\n",
       "    <tr>\n",
       "      <th>4</th>\n",
       "      <td>1003</td>\n",
       "      <td>2018-06-09</td>\n",
       "      <td>Women's hair cut</td>\n",
       "      <td>FRAL01</td>\n",
       "      <td>KELLY</td>\n",
       "      <td>1</td>\n",
       "      <td>65.0</td>\n",
       "      <td>3.25</td>\n",
       "      <td>5.20</td>\n",
       "      <td>June</td>\n",
       "      <td>6</td>\n",
       "      <td>Saturday</td>\n",
       "      <td>5</td>\n",
       "    </tr>\n",
       "  </tbody>\n",
       "</table>\n",
       "</div>"
      ],
      "text/plain": [
       "   Receipt       Date       Description  Client   Staff  Quantity  Amount  \\\n",
       "0       10 2018-03-15  Women's hair cut  KERT01      JJ         1    82.0   \n",
       "1      100 2018-04-05  Women's hair cut  COOM01  SINEAD         1    70.0   \n",
       "2     1000 2018-06-09      Consultation  PEDM01      JJ         1     0.0   \n",
       "3     1001 2018-06-09  Women's hair cut  BAIS01   KELLY         1    55.0   \n",
       "4     1003 2018-06-09  Women's hair cut  FRAL01   KELLY         1    65.0   \n",
       "\n",
       "    GST   PST mes_nome  mes_n  dia_nome  dia_n  \n",
       "0  4.10  6.56    March      3  Thursday      3  \n",
       "1  3.50  5.60    April      4  Thursday      3  \n",
       "2  0.00  0.00     June      6  Saturday      5  \n",
       "3  2.75  4.40     June      6  Saturday      5  \n",
       "4  3.25  5.20     June      6  Saturday      5  "
      ]
     },
     "execution_count": 24,
     "metadata": {},
     "output_type": "execute_result"
    }
   ],
   "source": [
    "transacoes_train.head()"
   ]
  },
  {
   "cell_type": "code",
   "execution_count": 25,
   "metadata": {},
   "outputs": [],
   "source": [
    "aux = transacoes_train.groupby(['Client','Date'])['Receipt'].size().groupby('Client').mean().to_frame('qte_servicos_por_dia').reset_index()\n",
    "\n",
    "train = pd.merge(left = train,right = aux, left_on='cliente',right_on='Client',how='left')\n",
    "train = train.drop('Client',axis=1)"
   ]
  },
  {
   "cell_type": "code",
   "execution_count": 26,
   "metadata": {},
   "outputs": [],
   "source": [
    "aux = transacoes_train.groupby('Client').apply(lambda x: x['Staff'].mode()[0]).to_frame('moda_staff_prestou_servico').reset_index()\n",
    "\n",
    "\n",
    "train = pd.merge(left = train,right = aux, left_on='cliente',right_on='Client',how='left')\n",
    "train = train.drop('Client',axis=1)\n"
   ]
  },
  {
   "cell_type": "code",
   "execution_count": 27,
   "metadata": {},
   "outputs": [],
   "source": [
    "aux = transacoes_train.groupby('Client').apply(lambda x: x['dia_nome'].mode()[0]).to_frame('moda_dia').reset_index()\n",
    "\n",
    "\n",
    "train = pd.merge(left = train,right = aux, left_on='cliente',right_on='Client',how='left')\n",
    "train = train.drop('Client',axis=1)\n"
   ]
  },
  {
   "cell_type": "markdown",
   "metadata": {},
   "source": [
    "Agora resta calcular recência, frequência e valor"
   ]
  }
 ],
 "metadata": {
  "kernelspec": {
   "display_name": "Python 3.10.12 ('venv': venv)",
   "language": "python",
   "name": "python3"
  },
  "language_info": {
   "codemirror_mode": {
    "name": "ipython",
    "version": 3
   },
   "file_extension": ".py",
   "mimetype": "text/x-python",
   "name": "python",
   "nbconvert_exporter": "python",
   "pygments_lexer": "ipython3",
   "version": "3.10.12"
  },
  "vscode": {
   "interpreter": {
    "hash": "02ad4af985444ed67ca1dd01d1eb956ee597f940faec3793a177cb96aedb1ed4"
   }
  }
 },
 "nbformat": 4,
 "nbformat_minor": 2
}
