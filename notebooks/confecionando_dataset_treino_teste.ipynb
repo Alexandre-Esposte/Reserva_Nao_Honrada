{
 "cells": [
  {
   "cell_type": "code",
   "execution_count": 12,
   "metadata": {},
   "outputs": [],
   "source": [
    "import pandas as pd\n",
    "import numpy as np\n",
    "import os"
   ]
  },
  {
   "cell_type": "code",
   "execution_count": 13,
   "metadata": {},
   "outputs": [],
   "source": [
    "datasets_path = \"../datasets_for_ml/\"\n",
    "\n",
    "reservas_futuras = pd.read_csv(datasets_path+'reservas_futuras.csv')\n",
    "transacoes = pd.read_csv(datasets_path+'transacoes.csv')\n",
    "cancelados = pd.read_csv(datasets_path+'cancelados.csv')\n",
    "faltantes = pd.read_csv(datasets_path+'faltantes.csv')"
   ]
  },
  {
   "cell_type": "markdown",
   "metadata": {},
   "source": [
    "Vimos na análise dos dados que há interseções entre as tabelas de transações, cancelados e faltantes. Entretanto, suspeitamos que essas tabelas deveriam ser mutuamente exclusivas, de tal forma que não deveria haver interseções entre elas.\n",
    "\n",
    "Vamos tomar a seguinte estratégia para lidar com esse problema:\n",
    "\n",
    "* Todas as interseções de cancelados e faltantes com transações serão removidos, deixando as instâncias somente na tabela transações. Isso pois se o cliente está na tabela de transações significa que ele recebeu o serviço, portanto, não cancelou e nem faltou.\n",
    "\n",
    "* Os clientes que estão na interseção de cancelados e faltantes serão removidos da tabela de faltantes e mantidos na tabela de cancelados. Se o cliente está na lista de cancelados, significa que ele cancelou e, portanto, não faltou."
   ]
  },
  {
   "cell_type": "markdown",
   "metadata": {},
   "source": [
    "Criando flags para auxiliar na remoção das instâncias"
   ]
  },
  {
   "cell_type": "code",
   "execution_count": 14,
   "metadata": {},
   "outputs": [
    {
     "data": {
      "text/plain": [
       "((1862, 13), (240, 7), (59, 4))"
      ]
     },
     "execution_count": 14,
     "metadata": {},
     "output_type": "execute_result"
    }
   ],
   "source": [
    "# Apenas para controle\n",
    "transacoes.shape , cancelados.shape , faltantes.shape"
   ]
  },
  {
   "cell_type": "code",
   "execution_count": 15,
   "metadata": {},
   "outputs": [],
   "source": [
    "cancelados['to_remove'] = cancelados.index\n",
    "faltantes['to_remove'] = faltantes.index"
   ]
  },
  {
   "cell_type": "code",
   "execution_count": 16,
   "metadata": {},
   "outputs": [
    {
     "name": "stdout",
     "output_type": "stream",
     "text": [
      "Quantidade de interseções entre cancelados e transacoes: 56\n"
     ]
    }
   ],
   "source": [
    "remove = pd.merge(left = cancelados[['Booking Date','Code','to_remove']], \n",
    "               right = transacoes[['Date','Client']],\n",
    "               left_on = ['Code','Booking Date'], \n",
    "               right_on=['Client','Date'],\n",
    "               how='inner',\n",
    "               indicator=True).drop_duplicates()['to_remove']\n",
    "\n",
    "\n",
    "print(f\"Quantidade de interseções entre cancelados e transacoes: {len(remove)}\")\n",
    "\n",
    "cancelados = cancelados.drop(remove)\n",
    "\n"
   ]
  },
  {
   "cell_type": "code",
   "execution_count": 17,
   "metadata": {},
   "outputs": [
    {
     "name": "stdout",
     "output_type": "stream",
     "text": [
      "Quantidade de interseções entre faltantes e transacoes: 1\n"
     ]
    }
   ],
   "source": [
    "remove = pd.merge(left = faltantes[['Date','Code','to_remove']], \n",
    "               right = transacoes[['Date','Client']],\n",
    "               left_on = ['Code','Date'], \n",
    "               right_on=['Client','Date'],\n",
    "               how='inner',\n",
    "               indicator=True).drop_duplicates()['to_remove']\n",
    "\n",
    "\n",
    "print(f\"Quantidade de interseções entre faltantes e transacoes: {len(remove)}\")\n",
    "faltantes = faltantes.drop(remove)"
   ]
  },
  {
   "cell_type": "code",
   "execution_count": 18,
   "metadata": {},
   "outputs": [
    {
     "name": "stdout",
     "output_type": "stream",
     "text": [
      "Quantidade de interseções entre cancelados e transacoes: 4\n"
     ]
    }
   ],
   "source": [
    "remove = pd.merge(left = cancelados[['Booking Date','Code']], \n",
    "               right = faltantes[['Date','Code','to_remove']],\n",
    "               left_on = ['Code','Booking Date'], \n",
    "               right_on=['Code','Date'],\n",
    "               how='inner',\n",
    "               indicator=True).drop_duplicates()['to_remove']\n",
    "\n",
    "\n",
    "print(f\"Quantidade de interseções entre cancelados e transacoes: {len(remove)}\")\n",
    "faltantes = faltantes.drop(remove)"
   ]
  },
  {
   "cell_type": "code",
   "execution_count": 19,
   "metadata": {},
   "outputs": [],
   "source": [
    "cancelados = cancelados.drop('to_remove',axis=1)\n",
    "faltantes = faltantes.drop('to_remove',axis=1)"
   ]
  },
  {
   "cell_type": "code",
   "execution_count": 20,
   "metadata": {},
   "outputs": [
    {
     "data": {
      "text/plain": [
       "((1862, 13), (184, 7), (54, 4))"
      ]
     },
     "execution_count": 20,
     "metadata": {},
     "output_type": "execute_result"
    }
   ],
   "source": [
    "# Apenas para controle\n",
    "transacoes.shape , cancelados.shape , faltantes.shape"
   ]
  },
  {
   "cell_type": "markdown",
   "metadata": {},
   "source": [
    "Agora vemos que não há mais interseções entre as tabelas"
   ]
  },
  {
   "cell_type": "code",
   "execution_count": 21,
   "metadata": {},
   "outputs": [
    {
     "data": {
      "text/html": [
       "<div>\n",
       "<style scoped>\n",
       "    .dataframe tbody tr th:only-of-type {\n",
       "        vertical-align: middle;\n",
       "    }\n",
       "\n",
       "    .dataframe tbody tr th {\n",
       "        vertical-align: top;\n",
       "    }\n",
       "\n",
       "    .dataframe thead th {\n",
       "        text-align: right;\n",
       "    }\n",
       "</style>\n",
       "<table border=\"1\" class=\"dataframe\">\n",
       "  <thead>\n",
       "    <tr style=\"text-align: right;\">\n",
       "      <th></th>\n",
       "      <th>Cancel Date</th>\n",
       "      <th>Code</th>\n",
       "      <th>Service</th>\n",
       "      <th>Staff_x</th>\n",
       "      <th>Booking Date</th>\n",
       "      <th>Canceled By</th>\n",
       "      <th>Days</th>\n",
       "      <th>Receipt</th>\n",
       "      <th>Date</th>\n",
       "      <th>Description</th>\n",
       "      <th>...</th>\n",
       "      <th>Staff_y</th>\n",
       "      <th>Quantity</th>\n",
       "      <th>Amount</th>\n",
       "      <th>GST</th>\n",
       "      <th>PST</th>\n",
       "      <th>mes_nome</th>\n",
       "      <th>mes_n</th>\n",
       "      <th>dia_nome</th>\n",
       "      <th>dia_n</th>\n",
       "      <th>_merge</th>\n",
       "    </tr>\n",
       "  </thead>\n",
       "  <tbody>\n",
       "  </tbody>\n",
       "</table>\n",
       "<p>0 rows × 21 columns</p>\n",
       "</div>"
      ],
      "text/plain": [
       "Empty DataFrame\n",
       "Columns: [Cancel Date, Code, Service, Staff_x, Booking Date, Canceled By, Days, Receipt, Date, Description, Client, Staff_y, Quantity, Amount, GST, PST, mes_nome, mes_n, dia_nome, dia_n, _merge]\n",
       "Index: []\n",
       "\n",
       "[0 rows x 21 columns]"
      ]
     },
     "execution_count": 21,
     "metadata": {},
     "output_type": "execute_result"
    }
   ],
   "source": [
    "pd.merge(left = cancelados, \n",
    "               right = transacoes,\n",
    "               left_on = ['Code','Booking Date'], \n",
    "               right_on=['Client','Date'],\n",
    "               how='inner',\n",
    "               indicator=True)"
   ]
  },
  {
   "cell_type": "code",
   "execution_count": 22,
   "metadata": {},
   "outputs": [
    {
     "data": {
      "text/html": [
       "<div>\n",
       "<style scoped>\n",
       "    .dataframe tbody tr th:only-of-type {\n",
       "        vertical-align: middle;\n",
       "    }\n",
       "\n",
       "    .dataframe tbody tr th {\n",
       "        vertical-align: top;\n",
       "    }\n",
       "\n",
       "    .dataframe thead th {\n",
       "        text-align: right;\n",
       "    }\n",
       "</style>\n",
       "<table border=\"1\" class=\"dataframe\">\n",
       "  <thead>\n",
       "    <tr style=\"text-align: right;\">\n",
       "      <th></th>\n",
       "      <th>Date</th>\n",
       "      <th>Code</th>\n",
       "      <th>Service</th>\n",
       "      <th>Staff_x</th>\n",
       "      <th>Receipt</th>\n",
       "      <th>Description</th>\n",
       "      <th>Client</th>\n",
       "      <th>Staff_y</th>\n",
       "      <th>Quantity</th>\n",
       "      <th>Amount</th>\n",
       "      <th>GST</th>\n",
       "      <th>PST</th>\n",
       "      <th>mes_nome</th>\n",
       "      <th>mes_n</th>\n",
       "      <th>dia_nome</th>\n",
       "      <th>dia_n</th>\n",
       "      <th>_merge</th>\n",
       "    </tr>\n",
       "  </thead>\n",
       "  <tbody>\n",
       "  </tbody>\n",
       "</table>\n",
       "</div>"
      ],
      "text/plain": [
       "Empty DataFrame\n",
       "Columns: [Date, Code, Service, Staff_x, Receipt, Description, Client, Staff_y, Quantity, Amount, GST, PST, mes_nome, mes_n, dia_nome, dia_n, _merge]\n",
       "Index: []"
      ]
     },
     "execution_count": 22,
     "metadata": {},
     "output_type": "execute_result"
    }
   ],
   "source": [
    "pd.merge(left = faltantes, \n",
    "               right = transacoes,\n",
    "               left_on = ['Code','Date'], \n",
    "               right_on=['Client','Date'],\n",
    "               how='inner',\n",
    "               indicator=True)"
   ]
  },
  {
   "cell_type": "code",
   "execution_count": 23,
   "metadata": {},
   "outputs": [
    {
     "data": {
      "text/html": [
       "<div>\n",
       "<style scoped>\n",
       "    .dataframe tbody tr th:only-of-type {\n",
       "        vertical-align: middle;\n",
       "    }\n",
       "\n",
       "    .dataframe tbody tr th {\n",
       "        vertical-align: top;\n",
       "    }\n",
       "\n",
       "    .dataframe thead th {\n",
       "        text-align: right;\n",
       "    }\n",
       "</style>\n",
       "<table border=\"1\" class=\"dataframe\">\n",
       "  <thead>\n",
       "    <tr style=\"text-align: right;\">\n",
       "      <th></th>\n",
       "      <th>Cancel Date</th>\n",
       "      <th>Code</th>\n",
       "      <th>Service_x</th>\n",
       "      <th>Staff_x</th>\n",
       "      <th>Booking Date</th>\n",
       "      <th>Canceled By</th>\n",
       "      <th>Days</th>\n",
       "      <th>Date</th>\n",
       "      <th>Service_y</th>\n",
       "      <th>Staff_y</th>\n",
       "      <th>_merge</th>\n",
       "    </tr>\n",
       "  </thead>\n",
       "  <tbody>\n",
       "  </tbody>\n",
       "</table>\n",
       "</div>"
      ],
      "text/plain": [
       "Empty DataFrame\n",
       "Columns: [Cancel Date, Code, Service_x, Staff_x, Booking Date, Canceled By, Days, Date, Service_y, Staff_y, _merge]\n",
       "Index: []"
      ]
     },
     "execution_count": 23,
     "metadata": {},
     "output_type": "execute_result"
    }
   ],
   "source": [
    "pd.merge(left = cancelados, \n",
    "               right = faltantes,\n",
    "               left_on = ['Code','Booking Date'], \n",
    "               right_on=['Code','Date'],\n",
    "               how='inner',\n",
    "               indicator=True)"
   ]
  },
  {
   "cell_type": "markdown",
   "metadata": {},
   "source": [
    "## **Construção do dataset para treinamento, teste e validação**"
   ]
  },
  {
   "cell_type": "markdown",
   "metadata": {},
   "source": []
  }
 ],
 "metadata": {
  "kernelspec": {
   "display_name": "Python 3.10.12 ('venv': venv)",
   "language": "python",
   "name": "python3"
  },
  "language_info": {
   "codemirror_mode": {
    "name": "ipython",
    "version": 3
   },
   "file_extension": ".py",
   "mimetype": "text/x-python",
   "name": "python",
   "nbconvert_exporter": "python",
   "pygments_lexer": "ipython3",
   "version": "3.10.12"
  },
  "vscode": {
   "interpreter": {
    "hash": "02ad4af985444ed67ca1dd01d1eb956ee597f940faec3793a177cb96aedb1ed4"
   }
  }
 },
 "nbformat": 4,
 "nbformat_minor": 2
}
